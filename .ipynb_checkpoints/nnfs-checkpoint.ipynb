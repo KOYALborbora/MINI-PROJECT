{
 "cells": [
  {
   "cell_type": "code",
   "execution_count": 1,
   "id": "fd848ef4",
   "metadata": {},
   "outputs": [],
   "source": [
    "import numpy as np\n",
    "import random as rd\n",
    "import matplotlib.pyplot as plt\n",
    "import pandas as pd\n",
    "import gensim.downloader as api"
   ]
  },
  {
   "cell_type": "code",
   "execution_count": 20,
   "id": "58fcd0b4-5a35-40b9-b235-422dce057729",
   "metadata": {},
   "outputs": [
    {
     "name": "stderr",
     "output_type": "stream",
     "text": [
      "/tmp/ipykernel_4253/3073313590.py:2: FutureWarning: Downcasting behavior in `replace` is deprecated and will be removed in a future version. To retain the old behavior, explicitly call `result.infer_objects(copy=False)`. To opt-in to the future behavior, set `pd.set_option('future.no_silent_downcasting', True)`\n",
      "  words[\"Nature\"] = words[\"Nature\"].replace({\"Negative\": 0, \"Positive\": 1})\n"
     ]
    },
    {
     "data": {
      "text/html": [
       "<div>\n",
       "<style scoped>\n",
       "    .dataframe tbody tr th:only-of-type {\n",
       "        vertical-align: middle;\n",
       "    }\n",
       "\n",
       "    .dataframe tbody tr th {\n",
       "        vertical-align: top;\n",
       "    }\n",
       "\n",
       "    .dataframe thead th {\n",
       "        text-align: right;\n",
       "    }\n",
       "</style>\n",
       "<table border=\"1\" class=\"dataframe\">\n",
       "  <thead>\n",
       "    <tr style=\"text-align: right;\">\n",
       "      <th></th>\n",
       "      <th>Word</th>\n",
       "      <th>Nature</th>\n",
       "    </tr>\n",
       "  </thead>\n",
       "  <tbody>\n",
       "    <tr>\n",
       "      <th>0</th>\n",
       "      <td>smuttier</td>\n",
       "      <td>0</td>\n",
       "    </tr>\n",
       "    <tr>\n",
       "      <th>1</th>\n",
       "      <td>steadiness</td>\n",
       "      <td>1</td>\n",
       "    </tr>\n",
       "    <tr>\n",
       "      <th>2</th>\n",
       "      <td>home</td>\n",
       "      <td>1</td>\n",
       "    </tr>\n",
       "    <tr>\n",
       "      <th>3</th>\n",
       "      <td>accuses</td>\n",
       "      <td>0</td>\n",
       "    </tr>\n",
       "    <tr>\n",
       "      <th>4</th>\n",
       "      <td>remorselessness</td>\n",
       "      <td>0</td>\n",
       "    </tr>\n",
       "    <tr>\n",
       "      <th>...</th>\n",
       "      <td>...</td>\n",
       "      <td>...</td>\n",
       "    </tr>\n",
       "    <tr>\n",
       "      <th>9411</th>\n",
       "      <td>immaculate</td>\n",
       "      <td>1</td>\n",
       "    </tr>\n",
       "    <tr>\n",
       "      <th>9412</th>\n",
       "      <td>malcontent</td>\n",
       "      <td>0</td>\n",
       "    </tr>\n",
       "    <tr>\n",
       "      <th>9413</th>\n",
       "      <td>cultured</td>\n",
       "      <td>1</td>\n",
       "    </tr>\n",
       "    <tr>\n",
       "      <th>9414</th>\n",
       "      <td>vibration</td>\n",
       "      <td>0</td>\n",
       "    </tr>\n",
       "    <tr>\n",
       "      <th>9415</th>\n",
       "      <td>infidels</td>\n",
       "      <td>0</td>\n",
       "    </tr>\n",
       "  </tbody>\n",
       "</table>\n",
       "<p>9416 rows × 2 columns</p>\n",
       "</div>"
      ],
      "text/plain": [
       "                 Word  Nature\n",
       "0            smuttier       0\n",
       "1          steadiness       1\n",
       "2                home       1\n",
       "3             accuses       0\n",
       "4     remorselessness       0\n",
       "...               ...     ...\n",
       "9411       immaculate       1\n",
       "9412       malcontent       0\n",
       "9413         cultured       1\n",
       "9414        vibration       0\n",
       "9415         infidels       0\n",
       "\n",
       "[9416 rows x 2 columns]"
      ]
     },
     "execution_count": 20,
     "metadata": {},
     "output_type": "execute_result"
    }
   ],
   "source": [
    "words = pd.read_csv(\"transformed_data.csv\")\n",
    "words[\"Nature\"] = words[\"Nature\"].replace({\"Negative\": 0, \"Positive\": 1})\n",
    "words"
   ]
  },
  {
   "cell_type": "code",
   "execution_count": 3,
   "id": "af3ffe39-74f2-4373-95fd-ff3f4416eb90",
   "metadata": {},
   "outputs": [],
   "source": [
    "model = api.load(\"word2vec-google-news-300\")"
   ]
  },
  {
   "cell_type": "code",
   "execution_count": 4,
   "id": "0cd885e4-4819-464d-939d-9604f355fd08",
   "metadata": {},
   "outputs": [],
   "source": [
    "def apply_embeddings(word):\n",
    "    if word in model.key_to_index:\n",
    "        return model[word][:5]\n",
    "    else:\n",
    "        return None"
   ]
  },
  {
   "cell_type": "code",
   "execution_count": 21,
   "id": "b7d883d8-385b-4d88-ace2-d8d7173b8d43",
   "metadata": {},
   "outputs": [],
   "source": [
    "words[\"Embeddings\"] = words[\"Word\"].apply(apply_embeddings)"
   ]
  },
  {
   "cell_type": "code",
   "execution_count": 22,
   "id": "13344a29-4e78-4645-82b5-728d388d9522",
   "metadata": {},
   "outputs": [],
   "source": [
    "words.dropna(inplace=True)"
   ]
  },
  {
   "cell_type": "code",
   "execution_count": 23,
   "id": "18097aa3-3843-4c49-a118-8b1fc4f72a56",
   "metadata": {},
   "outputs": [
    {
     "data": {
      "text/html": [
       "<div>\n",
       "<style scoped>\n",
       "    .dataframe tbody tr th:only-of-type {\n",
       "        vertical-align: middle;\n",
       "    }\n",
       "\n",
       "    .dataframe tbody tr th {\n",
       "        vertical-align: top;\n",
       "    }\n",
       "\n",
       "    .dataframe thead th {\n",
       "        text-align: right;\n",
       "    }\n",
       "</style>\n",
       "<table border=\"1\" class=\"dataframe\">\n",
       "  <thead>\n",
       "    <tr style=\"text-align: right;\">\n",
       "      <th></th>\n",
       "      <th>Word</th>\n",
       "      <th>Nature</th>\n",
       "      <th>0</th>\n",
       "      <th>1</th>\n",
       "      <th>2</th>\n",
       "      <th>3</th>\n",
       "      <th>4</th>\n",
       "    </tr>\n",
       "  </thead>\n",
       "  <tbody>\n",
       "    <tr>\n",
       "      <th>1</th>\n",
       "      <td>steadiness</td>\n",
       "      <td>1</td>\n",
       "      <td>0.133789</td>\n",
       "      <td>0.292969</td>\n",
       "      <td>-0.225586</td>\n",
       "      <td>0.128906</td>\n",
       "      <td>0.127930</td>\n",
       "    </tr>\n",
       "    <tr>\n",
       "      <th>2</th>\n",
       "      <td>home</td>\n",
       "      <td>1</td>\n",
       "      <td>-0.011841</td>\n",
       "      <td>0.079590</td>\n",
       "      <td>0.016846</td>\n",
       "      <td>-0.089844</td>\n",
       "      <td>0.086426</td>\n",
       "    </tr>\n",
       "    <tr>\n",
       "      <th>3</th>\n",
       "      <td>accuses</td>\n",
       "      <td>0</td>\n",
       "      <td>0.296875</td>\n",
       "      <td>0.070801</td>\n",
       "      <td>0.492188</td>\n",
       "      <td>-0.566406</td>\n",
       "      <td>0.040283</td>\n",
       "    </tr>\n",
       "    <tr>\n",
       "      <th>4</th>\n",
       "      <td>remorselessness</td>\n",
       "      <td>0</td>\n",
       "      <td>0.086426</td>\n",
       "      <td>0.010620</td>\n",
       "      <td>0.017578</td>\n",
       "      <td>-0.033447</td>\n",
       "      <td>-0.035645</td>\n",
       "    </tr>\n",
       "    <tr>\n",
       "      <th>6</th>\n",
       "      <td>disparage</td>\n",
       "      <td>0</td>\n",
       "      <td>0.021118</td>\n",
       "      <td>0.172852</td>\n",
       "      <td>0.052002</td>\n",
       "      <td>0.011169</td>\n",
       "      <td>-0.113281</td>\n",
       "    </tr>\n",
       "    <tr>\n",
       "      <th>...</th>\n",
       "      <td>...</td>\n",
       "      <td>...</td>\n",
       "      <td>...</td>\n",
       "      <td>...</td>\n",
       "      <td>...</td>\n",
       "      <td>...</td>\n",
       "      <td>...</td>\n",
       "    </tr>\n",
       "    <tr>\n",
       "      <th>9411</th>\n",
       "      <td>immaculate</td>\n",
       "      <td>1</td>\n",
       "      <td>0.056885</td>\n",
       "      <td>0.179688</td>\n",
       "      <td>0.059326</td>\n",
       "      <td>-0.103516</td>\n",
       "      <td>0.232422</td>\n",
       "    </tr>\n",
       "    <tr>\n",
       "      <th>9412</th>\n",
       "      <td>malcontent</td>\n",
       "      <td>0</td>\n",
       "      <td>0.271484</td>\n",
       "      <td>0.053955</td>\n",
       "      <td>0.125000</td>\n",
       "      <td>0.378906</td>\n",
       "      <td>-0.289062</td>\n",
       "    </tr>\n",
       "    <tr>\n",
       "      <th>9413</th>\n",
       "      <td>cultured</td>\n",
       "      <td>1</td>\n",
       "      <td>-0.097656</td>\n",
       "      <td>0.253906</td>\n",
       "      <td>0.176758</td>\n",
       "      <td>0.074707</td>\n",
       "      <td>-0.017578</td>\n",
       "    </tr>\n",
       "    <tr>\n",
       "      <th>9414</th>\n",
       "      <td>vibration</td>\n",
       "      <td>0</td>\n",
       "      <td>-0.205078</td>\n",
       "      <td>-0.079590</td>\n",
       "      <td>-0.114258</td>\n",
       "      <td>-0.263672</td>\n",
       "      <td>-0.239258</td>\n",
       "    </tr>\n",
       "    <tr>\n",
       "      <th>9415</th>\n",
       "      <td>infidels</td>\n",
       "      <td>0</td>\n",
       "      <td>-0.074707</td>\n",
       "      <td>-0.259766</td>\n",
       "      <td>0.038330</td>\n",
       "      <td>0.466797</td>\n",
       "      <td>-0.215820</td>\n",
       "    </tr>\n",
       "  </tbody>\n",
       "</table>\n",
       "<p>8317 rows × 7 columns</p>\n",
       "</div>"
      ],
      "text/plain": [
       "                 Word  Nature         0         1         2         3  \\\n",
       "1          steadiness       1  0.133789  0.292969 -0.225586  0.128906   \n",
       "2                home       1 -0.011841  0.079590  0.016846 -0.089844   \n",
       "3             accuses       0  0.296875  0.070801  0.492188 -0.566406   \n",
       "4     remorselessness       0  0.086426  0.010620  0.017578 -0.033447   \n",
       "6           disparage       0  0.021118  0.172852  0.052002  0.011169   \n",
       "...               ...     ...       ...       ...       ...       ...   \n",
       "9411       immaculate       1  0.056885  0.179688  0.059326 -0.103516   \n",
       "9412       malcontent       0  0.271484  0.053955  0.125000  0.378906   \n",
       "9413         cultured       1 -0.097656  0.253906  0.176758  0.074707   \n",
       "9414        vibration       0 -0.205078 -0.079590 -0.114258 -0.263672   \n",
       "9415         infidels       0 -0.074707 -0.259766  0.038330  0.466797   \n",
       "\n",
       "             4  \n",
       "1     0.127930  \n",
       "2     0.086426  \n",
       "3     0.040283  \n",
       "4    -0.035645  \n",
       "6    -0.113281  \n",
       "...        ...  \n",
       "9411  0.232422  \n",
       "9412 -0.289062  \n",
       "9413 -0.017578  \n",
       "9414 -0.239258  \n",
       "9415 -0.215820  \n",
       "\n",
       "[8317 rows x 7 columns]"
      ]
     },
     "execution_count": 23,
     "metadata": {},
     "output_type": "execute_result"
    }
   ],
   "source": [
    "words_int = pd.DataFrame(words[\"Embeddings\"].tolist(), index=words.index)\n",
    "words_int.columns = [f'{i}' for i in range(words_int.shape[1])]\n",
    "words = words.drop(columns=[\"Embeddings\"]).join(words_int)\n",
    "words"
   ]
  },
  {
   "cell_type": "code",
   "execution_count": 24,
   "id": "1a1d873f-d5bb-43dd-b3c1-5bf52678e5a4",
   "metadata": {},
   "outputs": [],
   "source": [
    "train_words = words[:6500]\n",
    "test_words = words[6500:]"
   ]
  },
  {
   "cell_type": "code",
   "execution_count": 25,
   "id": "bac835ef-5e3b-4abe-a6b2-5a0fd1003e1b",
   "metadata": {},
   "outputs": [],
   "source": [
    "train_input = train_words.drop(columns=[\"Word\", \"Nature\"]).values.tolist()\n",
    "test_input = test_words.drop(columns=[\"Word\", \"Nature\"]).values.tolist()"
   ]
  },
  {
   "cell_type": "code",
   "execution_count": 27,
   "id": "ccc1d17f-78b1-48a3-8457-259aae03f416",
   "metadata": {},
   "outputs": [],
   "source": [
    "output = words[\"Nature\"]\n",
    "train_output = output[:6500]\n",
    "test_output = output[6500:]"
   ]
  },
  {
   "cell_type": "code",
   "execution_count": 28,
   "id": "18588de5-7752-4bc3-97a9-1961b38c2976",
   "metadata": {},
   "outputs": [],
   "source": [
    "def one_hot(l):\n",
    "    arr = l\n",
    "    encoded_arr = np.zeros((arr.size, arr.max()+1), dtype=int)\n",
    "    encoded_arr[np.arange(arr.size),arr] = 1\n",
    "    return encoded_arr"
   ]
  },
  {
   "cell_type": "code",
   "execution_count": 29,
   "id": "33d184f4-4e68-4534-9f81-e89587a2d89a",
   "metadata": {},
   "outputs": [],
   "source": [
    "def softmax(l):\n",
    "    npl = np.array(l)\n",
    "    sm = np.exp(npl - np.max(npl, axis=0, keepdims=True))\n",
    "    probs = sm / np.sum(sm, axis=0, keepdims=True)\n",
    "    return probs"
   ]
  },
  {
   "cell_type": "code",
   "execution_count": 30,
   "id": "cb03798b-ab6a-4107-85a3-844e88aa5180",
   "metadata": {
    "scrolled": true
   },
   "outputs": [],
   "source": [
    "one_hot_train_output = one_hot(train_output)"
   ]
  },
  {
   "cell_type": "markdown",
   "id": "6eeccfc9",
   "metadata": {},
   "source": [
    "### Single input forward propagation"
   ]
  },
  {
   "cell_type": "code",
   "execution_count": 66,
   "id": "ce1e28e0",
   "metadata": {},
   "outputs": [
    {
     "name": "stdout",
     "output_type": "stream",
     "text": [
      "Epoch 0 completed\n",
      "Epoch 100 completed\n",
      "Epoch 200 completed\n",
      "Epoch 300 completed\n",
      "Epoch 400 completed\n",
      "Epoch 500 completed\n",
      "Epoch 600 completed\n",
      "Epoch 700 completed\n",
      "Epoch 800 completed\n",
      "Epoch 900 completed\n",
      "Epoch 1000 completed\n",
      "Epoch 1100 completed\n",
      "Epoch 1200 completed\n",
      "Epoch 1300 completed\n",
      "Epoch 1400 completed\n",
      "Epoch 1500 completed\n",
      "Epoch 1600 completed\n",
      "Epoch 1700 completed\n",
      "Epoch 1800 completed\n",
      "Epoch 1900 completed\n"
     ]
    },
    {
     "data": {
      "text/plain": [
       "[<matplotlib.lines.Line2D at 0x777fc9018350>]"
      ]
     },
     "execution_count": 66,
     "metadata": {},
     "output_type": "execute_result"
    },
    {
     "data": {
      "image/png": "[encoded data removed]",
      "text/plain": [
       "<Figure size 640x480 with 1 Axes>"
      ]
     },
     "metadata": {},
     "output_type": "display_data"
    }
   ],
   "source": [
    "weights1 = [rd.random(), rd.random(), rd.random(), rd.random(), rd.random()]\n",
    "weights2 = [rd.random(), rd.random(), rd.random(), rd.random(), rd.random()]\n",
    "bias1 = 2\n",
    "bias2 = 2\n",
    "best_weights_1 = list(weights1)\n",
    "best_weights_2 = list(weights2)\n",
    "best_bias_1 = bias1\n",
    "best_bias_2 = bias2\n",
    "predicted = []\n",
    "lowest_loss = 9999999\n",
    "learning_rate = 0.001\n",
    "\n",
    "all_losses = []\n",
    "lowest_losses = []\n",
    "\n",
    "# multiplied by 0.05 to make the weights small\n",
    "for i in range(2000):\n",
    "    weights1[0] -= learning_rate * rd.random()\n",
    "    weights1[1] -= learning_rate * rd.random()\n",
    "    weights1[2] -= learning_rate * rd.random()\n",
    "    weights1[3] -= learning_rate * rd.random()\n",
    "    weights1[4] -= learning_rate * rd.random()\n",
    "\n",
    "    weights2[0] -= learning_rate * rd.random()\n",
    "    weights2[1] -= learning_rate * rd.random()\n",
    "    weights2[2] -= learning_rate * rd.random()\n",
    "    weights2[3] -= learning_rate * rd.random()\n",
    "    weights2[4] -= learning_rate * rd.random()\n",
    "    \n",
    "    bias1 -= learning_rate * rd.random()\n",
    "    bias2 -= learning_rate * rd.random()\n",
    "\n",
    "    #clipping the weights if they go below zero\n",
    "    weights1[0] = max(0, weights1[0])\n",
    "    weights1[1] = max(0, weights1[1])\n",
    "    weights1[2] = max(0, weights1[2])\n",
    "    weights1[3] = max(0, weights1[3])\n",
    "    weights1[4] = max(0, weights1[4])\n",
    "\n",
    "    weights2[0] = max(0, weights2[0])\n",
    "    weights2[1] = max(0, weights2[1])\n",
    "    weights2[2] = max(0, weights2[2])\n",
    "    weights2[3] = max(0, weights2[3])\n",
    "    weights2[4] = max(0, weights2[4])\n",
    "    \n",
    "    for j in train_input:\n",
    "        l = [max(0, j[0]*weights1[0]+j[1]*weights1[1]+j[2]*weights1[2]+j[3]*weights1[3]+j[4]*weights1[4]+ bias1), \n",
    "            max(0, j[0]*weights2[0]+j[1]*weights2[1]+j[2]*weights2[2]+j[3]*weights2[3]+j[4]*weights2[4]+ bias2)]\n",
    "\n",
    "        predicted.append(softmax(l))\n",
    "\n",
    "    correct_confidences = np.sum(predicted * one_hot_train_output, axis=1)\n",
    "    loss = np.mean(-np.log(correct_confidences))\n",
    "    \n",
    "    predicted = []\n",
    "    all_losses.append(loss)\n",
    "    \n",
    "    if loss<lowest_loss:\n",
    "        lowest_losses.append(loss)\n",
    "        lowest_loss= loss\n",
    "        best_weights_1 = list(weights1)\n",
    "        best_weights_2 = list(weights2)\n",
    "        best_bias_1 = bias1\n",
    "        best_bias_2 = bias2\n",
    "    else:\n",
    "        weights1 = list(best_weights_1)\n",
    "        weights2 = list(best_weights_2)\n",
    "        bias1 = best_bias_1\n",
    "        bias2 = best_bias_2\n",
    "\n",
    "    if i % 100 == 0:\n",
    "        print(f\"Epoch {i} completed\")\n",
    "\n",
    "plt.plot(range(len(all_losses)), all_losses)"
   ]
  },
  {
   "cell_type": "code",
   "execution_count": 67,
   "id": "fa5e4a0a-b57e-4b9b-aca6-e8d69314fdd5",
   "metadata": {},
   "outputs": [
    {
     "name": "stdout",
     "output_type": "stream",
     "text": [
      "Confusion matrix: \n",
      "41 549\n",
      " 7 720\n",
      "Precision:  0.06949152542372881\n",
      "Recall:  0.8541666666666666\n",
      "F1 Score:  0.12852664576802508\n",
      "Accuracy:  57.7828397873956\n"
     ]
    }
   ],
   "source": [
    "def predicted_output(test):\n",
    "    test_predicted = []\n",
    "    for i in range(len(test)):\n",
    "        s1 = 0\n",
    "        s2 = 0\n",
    "        for j in range(5):\n",
    "            s1 += max(0, test[i][j] * best_weights_1[j])\n",
    "            s2 += max(0, test[i][j] * best_weights_2[j])\n",
    "        s1 += best_bias_1\n",
    "        s2 += best_bias_2\n",
    "        sftmx = softmax([s1, s2])\n",
    "        if sftmx[0]>=sftmx[1]: test_predicted.append([1,0])\n",
    "        else: test_predicted.append([0,1])\n",
    "    return test_predicted\n",
    "\n",
    "predicted_res = predicted_output(test_input)\n",
    "\n",
    "one_hot_test_output = one_hot(test_output)\n",
    "one_hot_test_output = one_hot_test_output.tolist()\n",
    "\n",
    "correct_samples = 0\n",
    "tp, fp, tn, fn = 0, 0, 0, 0\n",
    "\n",
    "for i in range(len(test_output)):\n",
    "    if predicted_res[i] == one_hot_test_output[i]:\n",
    "        correct_samples += 1\n",
    "        if predicted_res[i] == [1,0]:\n",
    "            tn += 1\n",
    "        else:\n",
    "            tp += 1\n",
    "    elif predicted_res[i] == [1, 0] and one_hot_test_output[i] == [0,1]:\n",
    "        fp += 1\n",
    "    elif predicted_res[i] == [0,1] and one_hot_test_output[i] == [1,0]:\n",
    "        fn += 1\n",
    "    else: \n",
    "        pass\n",
    "\n",
    "accuracy = correct_samples / len(test_output)\n",
    "precision = tp / (tp+fp)\n",
    "recall = tp / (tp + fn)\n",
    "\n",
    "print(\"Confusion matrix: \")\n",
    "print('{0:2d} {1:2d}\\n{2:2d} {3:2d}'.format(tp, fp, fn, tn))\n",
    "print(\"Precision: \", precision)\n",
    "print(\"Recall: \", recall)\n",
    "print(\"F1 Score: \", 2 * precision * recall / (precision + recall))\n",
    "print(\"Accuracy: \", accuracy * 100)"
   ]
  },
  {
   "cell_type": "code",
   "execution_count": 68,
   "id": "ef07a5b5-56fd-496d-b84a-b4a3fd70a348",
   "metadata": {},
   "outputs": [],
   "source": [
    "def predict(word):\n",
    "    emb = []\n",
    "    if word in model.key_to_index:\n",
    "        emb = model[word][:5]\n",
    "    else:\n",
    "        return None\n",
    "\n",
    "    pred = predicted_output([emb])\n",
    "    if pred[0] == [1,0]: print(f\"{word} is a negative word\")\n",
    "    else: print(f\"{word} is a positive word\")"
   ]
  },
  {
   "cell_type": "code",
   "execution_count": 69,
   "id": "519fd80a-15e7-4e37-a7df-29dea20cefff",
   "metadata": {},
   "outputs": [
    {
     "name": "stdout",
     "output_type": "stream",
     "text": [
      "good is a negative word\n"
     ]
    }
   ],
   "source": [
    "predict(\"good\")"
   ]
  },
  {
   "cell_type": "code",
   "execution_count": 70,
   "id": "7052823f-3629-4d41-a379-2d16abe847e6",
   "metadata": {},
   "outputs": [
    {
     "name": "stdout",
     "output_type": "stream",
     "text": [
      "worse is a negative word\n"
     ]
    }
   ],
   "source": [
    "predict(\"worse\")"
   ]
  },
  {
   "cell_type": "code",
   "execution_count": null,
   "id": "22c6039e-48a7-45c4-ae5d-86a1e7a90230",
   "metadata": {},
   "outputs": [],
   "source": []
  }
 ],
 "metadata": {
  "kernelspec": {
   "display_name": "Python 3 (ipykernel)",
   "language": "python",
   "name": "python3"
  },
  "language_info": {
   "codemirror_mode": {
    "name": "ipython",
    "version": 3
   },
   "file_extension": ".py",
   "mimetype": "text/x-python",
   "name": "python",
   "nbconvert_exporter": "python",
   "pygments_lexer": "ipython3",
   "version": "3.11.9"
  }
 },
 "nbformat": 4,
 "nbformat_minor": 5
}
