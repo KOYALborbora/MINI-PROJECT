{
 "cells": [
  {
   "cell_type": "code",
   "execution_count": 24,
   "id": "fd848ef4",
   "metadata": {},
   "outputs": [],
   "source": [
    "import numpy as np\n",
    "import random as rd\n",
    "import matplotlib.pyplot as plt\n",
    "import pandas as pd\n",
    "import gensim.downloader as api"
   ]
  },
  {
   "cell_type": "code",
   "execution_count": 2,
   "id": "e06093b8",
   "metadata": {},
   "outputs": [],
   "source": [
    "#[IQ,CGPA,DSA problems solved]\n",
    "inputs = [[91, 9.2, 62],[82, 8.6, 30],[95, 7.5, 100],[50, 7.0, 120]]"
   ]
  },
  {
   "cell_type": "code",
   "execution_count": 3,
   "id": "df1210c9",
   "metadata": {},
   "outputs": [],
   "source": [
    "#[SALARY in LPA]\n",
    "output = [12, 6, 13, 15,]"
   ]
  },
  {
   "cell_type": "code",
   "execution_count": 4,
   "id": "43ee4c49",
   "metadata": {},
   "outputs": [
    {
     "data": {
      "text/plain": [
       "[0.5315689872553279, 0.30238653947540495, 0.09082221528945711]"
      ]
     },
     "execution_count": 4,
     "metadata": {},
     "output_type": "execute_result"
    }
   ],
   "source": [
    "#random weigts between 0-1\n",
    "weights = [rd.random(),rd.random(),rd.random()]\n",
    "weights"
   ]
  },
  {
   "cell_type": "code",
   "execution_count": 5,
   "id": "dc992255",
   "metadata": {},
   "outputs": [],
   "source": [
    "bias = 2 #random"
   ]
  },
  {
   "cell_type": "code",
   "execution_count": 25,
   "id": "58fcd0b4-5a35-40b9-b235-422dce057729",
   "metadata": {},
   "outputs": [],
   "source": [
    "words = pd.read_csv(\"words.csv\")\n",
    "words = words.sample(frac=1).reset_index(drop=True)"
   ]
  },
  {
   "cell_type": "code",
   "execution_count": 26,
   "id": "af3ffe39-74f2-4373-95fd-ff3f4416eb90",
   "metadata": {},
   "outputs": [],
   "source": [
    "model = api.load(\"word2vec-google-news-300\")"
   ]
  },
  {
   "cell_type": "code",
   "execution_count": 27,
   "id": "0cd885e4-4819-464d-939d-9604f355fd08",
   "metadata": {},
   "outputs": [],
   "source": [
    "def apply_embeddings(word):\n",
    "    if word in model.key_to_index:\n",
    "        return model[word][:5]\n",
    "    else:\n",
    "        return None"
   ]
  },
  {
   "cell_type": "code",
   "execution_count": 28,
   "id": "b7d883d8-385b-4d88-ace2-d8d7173b8d43",
   "metadata": {},
   "outputs": [],
   "source": [
    "words[\"embeddings\"] = words[\"word\"].apply(apply_embeddings)"
   ]
  },
  {
   "cell_type": "code",
   "execution_count": 29,
   "id": "13344a29-4e78-4645-82b5-728d388d9522",
   "metadata": {},
   "outputs": [],
   "source": [
    "words.dropna(inplace=True)"
   ]
  },
  {
   "cell_type": "code",
   "execution_count": 30,
   "id": "18097aa3-3843-4c49-a118-8b1fc4f72a56",
   "metadata": {},
   "outputs": [
    {
     "data": {
      "text/html": [
       "<div>\n",
       "<style scoped>\n",
       "    .dataframe tbody tr th:only-of-type {\n",
       "        vertical-align: middle;\n",
       "    }\n",
       "\n",
       "    .dataframe tbody tr th {\n",
       "        vertical-align: top;\n",
       "    }\n",
       "\n",
       "    .dataframe thead th {\n",
       "        text-align: right;\n",
       "    }\n",
       "</style>\n",
       "<table border=\"1\" class=\"dataframe\">\n",
       "  <thead>\n",
       "    <tr style=\"text-align: right;\">\n",
       "      <th></th>\n",
       "      <th>word</th>\n",
       "      <th>label</th>\n",
       "      <th>0</th>\n",
       "      <th>1</th>\n",
       "      <th>2</th>\n",
       "      <th>3</th>\n",
       "      <th>4</th>\n",
       "    </tr>\n",
       "  </thead>\n",
       "  <tbody>\n",
       "    <tr>\n",
       "      <th>0</th>\n",
       "      <td>terrible</td>\n",
       "      <td>0</td>\n",
       "      <td>0.164062</td>\n",
       "      <td>0.192383</td>\n",
       "      <td>0.092285</td>\n",
       "      <td>0.130859</td>\n",
       "      <td>0.075195</td>\n",
       "    </tr>\n",
       "    <tr>\n",
       "      <th>1</th>\n",
       "      <td>careless</td>\n",
       "      <td>0</td>\n",
       "      <td>0.449219</td>\n",
       "      <td>0.191406</td>\n",
       "      <td>-0.036865</td>\n",
       "      <td>0.054932</td>\n",
       "      <td>-0.253906</td>\n",
       "    </tr>\n",
       "    <tr>\n",
       "      <th>2</th>\n",
       "      <td>shabby</td>\n",
       "      <td>0</td>\n",
       "      <td>0.091797</td>\n",
       "      <td>0.339844</td>\n",
       "      <td>0.060791</td>\n",
       "      <td>0.174805</td>\n",
       "      <td>0.002853</td>\n",
       "    </tr>\n",
       "    <tr>\n",
       "      <th>3</th>\n",
       "      <td>barren</td>\n",
       "      <td>0</td>\n",
       "      <td>0.158203</td>\n",
       "      <td>0.355469</td>\n",
       "      <td>0.049072</td>\n",
       "      <td>0.001335</td>\n",
       "      <td>-0.061035</td>\n",
       "    </tr>\n",
       "    <tr>\n",
       "      <th>4</th>\n",
       "      <td>distressed</td>\n",
       "      <td>0</td>\n",
       "      <td>0.125977</td>\n",
       "      <td>0.333984</td>\n",
       "      <td>-0.015991</td>\n",
       "      <td>-0.094238</td>\n",
       "      <td>-0.048340</td>\n",
       "    </tr>\n",
       "    <tr>\n",
       "      <th>...</th>\n",
       "      <td>...</td>\n",
       "      <td>...</td>\n",
       "      <td>...</td>\n",
       "      <td>...</td>\n",
       "      <td>...</td>\n",
       "      <td>...</td>\n",
       "      <td>...</td>\n",
       "    </tr>\n",
       "    <tr>\n",
       "      <th>392</th>\n",
       "      <td>phenomenal</td>\n",
       "      <td>1</td>\n",
       "      <td>0.133789</td>\n",
       "      <td>0.111816</td>\n",
       "      <td>-0.181641</td>\n",
       "      <td>0.059082</td>\n",
       "      <td>0.023438</td>\n",
       "    </tr>\n",
       "    <tr>\n",
       "      <th>393</th>\n",
       "      <td>defiant</td>\n",
       "      <td>0</td>\n",
       "      <td>0.294922</td>\n",
       "      <td>0.246094</td>\n",
       "      <td>0.120117</td>\n",
       "      <td>-0.063965</td>\n",
       "      <td>-0.022827</td>\n",
       "    </tr>\n",
       "    <tr>\n",
       "      <th>394</th>\n",
       "      <td>victorious</td>\n",
       "      <td>1</td>\n",
       "      <td>0.069824</td>\n",
       "      <td>0.218750</td>\n",
       "      <td>0.248047</td>\n",
       "      <td>-0.226562</td>\n",
       "      <td>0.263672</td>\n",
       "    </tr>\n",
       "    <tr>\n",
       "      <th>395</th>\n",
       "      <td>invincible</td>\n",
       "      <td>1</td>\n",
       "      <td>0.231445</td>\n",
       "      <td>0.376953</td>\n",
       "      <td>0.181641</td>\n",
       "      <td>-0.155273</td>\n",
       "      <td>-0.228516</td>\n",
       "    </tr>\n",
       "    <tr>\n",
       "      <th>396</th>\n",
       "      <td>shortage</td>\n",
       "      <td>0</td>\n",
       "      <td>-0.046631</td>\n",
       "      <td>-0.158203</td>\n",
       "      <td>-0.127930</td>\n",
       "      <td>-0.052979</td>\n",
       "      <td>-0.180664</td>\n",
       "    </tr>\n",
       "  </tbody>\n",
       "</table>\n",
       "<p>396 rows × 7 columns</p>\n",
       "</div>"
      ],
      "text/plain": [
       "           word  label         0         1         2         3         4\n",
       "0      terrible      0  0.164062  0.192383  0.092285  0.130859  0.075195\n",
       "1      careless      0  0.449219  0.191406 -0.036865  0.054932 -0.253906\n",
       "2        shabby      0  0.091797  0.339844  0.060791  0.174805  0.002853\n",
       "3        barren      0  0.158203  0.355469  0.049072  0.001335 -0.061035\n",
       "4    distressed      0  0.125977  0.333984 -0.015991 -0.094238 -0.048340\n",
       "..          ...    ...       ...       ...       ...       ...       ...\n",
       "392  phenomenal      1  0.133789  0.111816 -0.181641  0.059082  0.023438\n",
       "393     defiant      0  0.294922  0.246094  0.120117 -0.063965 -0.022827\n",
       "394  victorious      1  0.069824  0.218750  0.248047 -0.226562  0.263672\n",
       "395  invincible      1  0.231445  0.376953  0.181641 -0.155273 -0.228516\n",
       "396    shortage      0 -0.046631 -0.158203 -0.127930 -0.052979 -0.180664\n",
       "\n",
       "[396 rows x 7 columns]"
      ]
     },
     "execution_count": 30,
     "metadata": {},
     "output_type": "execute_result"
    }
   ],
   "source": [
    "words_int = pd.DataFrame(words[\"embeddings\"].tolist(), index=words.index)\n",
    "words_int.columns = [f'{i}' for i in range(words_int.shape[1])]\n",
    "words = words.drop(columns=[\"embeddings\"]).join(words_int)\n",
    "words"
   ]
  },
  {
   "cell_type": "code",
   "execution_count": 31,
   "id": "1a1d873f-d5bb-43dd-b3c1-5bf52678e5a4",
   "metadata": {},
   "outputs": [],
   "source": [
    "train_words = words[:320]\n",
    "test_words = words[320:]"
   ]
  },
  {
   "cell_type": "code",
   "execution_count": 164,
   "id": "bac835ef-5e3b-4abe-a6b2-5a0fd1003e1b",
   "metadata": {},
   "outputs": [],
   "source": [
    "train_input = train_words.drop(columns=[\"word\", \"label\"]).values.tolist()\n",
    "test_input = test_words.drop(columns=[\"word\", \"label\"]).values.tolist()"
   ]
  },
  {
   "cell_type": "markdown",
   "id": "c56f0c91",
   "metadata": {},
   "source": [
    "### Batched NN forward propagation"
   ]
  },
  {
   "cell_type": "code",
   "execution_count": 6,
   "id": "6a31255f",
   "metadata": {},
   "outputs": [],
   "source": [
    "predicted = [inputs[0][0]*weights[0]+inputs[0][1]*weights[1]+inputs[0][2]*weights[2] + bias,\n",
    "            inputs[1][0]*weights[0]+inputs[1][1]*weights[1]+inputs[1][2]*weights[2] + bias,\n",
    "            inputs[2][0]*weights[0]+inputs[2][1]*weights[1]+inputs[2][2]*weights[2] + bias,\n",
    "            inputs[3][0]*weights[0]+inputs[3][1]*weights[1]+inputs[3][2]*weights[2] + bias]"
   ]
  },
  {
   "cell_type": "code",
   "execution_count": 7,
   "id": "def04e9c",
   "metadata": {},
   "outputs": [
    {
     "data": {
      "text/plain": [
       "[58.7857113513549, 50.91384765310909, 63.84917436426739, 41.59382097382908]"
      ]
     },
     "execution_count": 7,
     "metadata": {},
     "output_type": "execute_result"
    }
   ],
   "source": [
    "predicted"
   ]
  },
  {
   "cell_type": "code",
   "execution_count": 8,
   "id": "654651a0",
   "metadata": {},
   "outputs": [
    {
     "data": {
      "text/plain": [
       "array([46.78571135, 44.91384765, 50.84917436, 26.59382097])"
      ]
     },
     "execution_count": 8,
     "metadata": {},
     "output_type": "execute_result"
    }
   ],
   "source": [
    "loss = np.array(predicted) - np.array(output)\n",
    "loss"
   ]
  },
  {
   "cell_type": "code",
   "execution_count": 9,
   "id": "af2161d5",
   "metadata": {},
   "outputs": [
    {
     "data": {
      "text/plain": [
       "42.285638585640115"
      ]
     },
     "execution_count": 9,
     "metadata": {},
     "output_type": "execute_result"
    }
   ],
   "source": [
    "average_loss = np.mean(loss)\n",
    "average_loss"
   ]
  },
  {
   "cell_type": "code",
   "execution_count": 159,
   "id": "ccc1d17f-78b1-48a3-8457-259aae03f416",
   "metadata": {},
   "outputs": [],
   "source": [
    "output = words[\"label\"]\n",
    "train_output = output[:320]\n",
    "test_output = output[320:]"
   ]
  },
  {
   "cell_type": "code",
   "execution_count": 33,
   "id": "18588de5-7752-4bc3-97a9-1961b38c2976",
   "metadata": {},
   "outputs": [],
   "source": [
    "def one_hot(l):\n",
    "    arr = l\n",
    "    encoded_arr = np.zeros((arr.size, arr.max()+1), dtype=int)\n",
    "    encoded_arr[np.arange(arr.size),arr] = 1\n",
    "    return encoded_arr"
   ]
  },
  {
   "cell_type": "code",
   "execution_count": 53,
   "id": "33d184f4-4e68-4534-9f81-e89587a2d89a",
   "metadata": {},
   "outputs": [],
   "source": [
    "def softmax(l):\n",
    "    npl = np.array(l)\n",
    "    sm = np.exp(npl - np.max(npl, axis=0, keepdims=True))\n",
    "    probs = sm / np.sum(sm, axis=0, keepdims=True)\n",
    "    return probs"
   ]
  },
  {
   "cell_type": "code",
   "execution_count": 163,
   "id": "cb03798b-ab6a-4107-85a3-844e88aa5180",
   "metadata": {
    "scrolled": true
   },
   "outputs": [],
   "source": [
    "one_hot_train_output = one_hot(train_output)"
   ]
  },
  {
   "cell_type": "markdown",
   "id": "6eeccfc9",
   "metadata": {},
   "source": [
    "### Single input forward propagation"
   ]
  },
  {
   "cell_type": "code",
   "execution_count": 174,
   "id": "ce1e28e0",
   "metadata": {},
   "outputs": [
    {
     "data": {
      "text/plain": [
       "[<matplotlib.lines.Line2D at 0x7d91efa5b350>]"
      ]
     },
     "execution_count": 174,
     "metadata": {},
     "output_type": "execute_result"
    },
    {
     "data": {
      "image/png": "[encoded data removed]",
      "text/plain": [
       "<Figure size 640x480 with 1 Axes>"
      ]
     },
     "metadata": {},
     "output_type": "display_data"
    }
   ],
   "source": [
    "weights1 = [rd.random(), rd.random(), rd.random(), rd.random(), rd.random()]\n",
    "weights2 = [rd.random(), rd.random(), rd.random(), rd.random(), rd.random()]\n",
    "bias1 = 2\n",
    "bias2 = 2\n",
    "best_weights_1 = list(weights1)\n",
    "best_weights_2 = list(weights2)\n",
    "best_bias_1 = bias1\n",
    "best_bias_2 = bias2\n",
    "predicted = []\n",
    "lowest_loss = 9999999\n",
    "learning_rate = 0.02\n",
    "\n",
    "all_losses = []\n",
    "lowest_losses = []\n",
    "\n",
    "# multiplied by 0.05 to make the weights small\n",
    "for i in range(1000):\n",
    "    weights1[0] -= learning_rate * rd.random()\n",
    "    weights1[1] -= learning_rate * rd.random()\n",
    "    weights1[2] -= learning_rate * rd.random()\n",
    "    weights1[3] -= learning_rate * rd.random()\n",
    "    weights1[4] -= learning_rate * rd.random()\n",
    "\n",
    "    weights2[0] -= learning_rate * rd.random()\n",
    "    weights2[1] -= learning_rate * rd.random()\n",
    "    weights2[2] -= learning_rate * rd.random()\n",
    "    weights2[3] -= learning_rate * rd.random()\n",
    "    weights2[4] -= learning_rate * rd.random()\n",
    "    \n",
    "    bias1 -= learning_rate * rd.random()\n",
    "    bias2 -= learning_rate * rd.random()\n",
    "\n",
    "    #clipping the weights if they go below zero\n",
    "    weights1[0] = max(0, weights1[0])\n",
    "    weights1[1] = max(0, weights1[1])\n",
    "    weights1[2] = max(0, weights1[2])\n",
    "    weights1[3] = max(0, weights1[3])\n",
    "    weights1[4] = max(0, weights1[4])\n",
    "\n",
    "    weights2[0] = max(0, weights2[0])\n",
    "    weights2[1] = max(0, weights2[1])\n",
    "    weights2[2] = max(0, weights2[2])\n",
    "    weights2[3] = max(0, weights2[3])\n",
    "    weights2[4] = max(0, weights2[4])\n",
    "    \n",
    "    for j in train_input:\n",
    "        l = [max(0, j[0]*weights1[0]+j[1]*weights1[1]+j[2]*weights1[2]+j[3]*weights1[3]+j[4]*weights1[4]+ bias1), \n",
    "            max(0, j[0]*weights2[0]+j[1]*weights2[1]+j[2]*weights2[2]+j[3]*weights2[3]+j[4]*weights2[4]+ bias2)]\n",
    "\n",
    "        predicted.append(softmax(l))\n",
    "\n",
    "    correct_confidences = np.sum(predicted * one_hot_train_output, axis=1)\n",
    "    loss = np.mean(-np.log(correct_confidences))\n",
    "    \n",
    "    predicted = []\n",
    "    all_losses.append(loss)\n",
    "    \n",
    "    if loss<lowest_loss:\n",
    "        lowest_losses.append(loss)\n",
    "        lowest_loss= loss\n",
    "        best_weights_1 = list(weights1)\n",
    "        best_weights_2 = list(weights2)\n",
    "        best_bias_1 = bias1\n",
    "        best_bias_2 = bias2\n",
    "    else:\n",
    "        weights1 = list(best_weights_1)\n",
    "        weights2 = list(best_weights_2)\n",
    "        bias1 = best_bias_1\n",
    "        bias2 = best_bias_2\n",
    "\n",
    "plt.plot(range(len(all_losses)), all_losses)"
   ]
  },
  {
   "cell_type": "code",
   "execution_count": 11,
   "id": "095d2bdf-4e90-44ac-b289-b1e5222d8a54",
   "metadata": {},
   "outputs": [],
   "source": [
    "test_input = [[91, 9.2, 62],[82, 8.6, 30],[95, 7.5, 100],[50, 7.0, 120]]"
   ]
  },
  {
   "cell_type": "code",
   "execution_count": 12,
   "id": "1ffa2c06-c7a3-4b06-aa01-ed5803fd3846",
   "metadata": {},
   "outputs": [],
   "source": [
    "test_predicted = [inputs[0][0]*weights[0]+inputs[0][1]*weights[1]+inputs[0][2]*weights[2] + bias,\n",
    "            inputs[1][0]*weights[0]+inputs[1][1]*weights[1]+inputs[1][2]*weights[2] + bias,\n",
    "            inputs[2][0]*weights[0]+inputs[2][1]*weights[1]+inputs[2][2]*weights[2] + bias,\n",
    "            inputs[3][0]*weights[0]+inputs[3][1]*weights[1]+inputs[3][2]*weights[2] + bias]"
   ]
  },
  {
   "cell_type": "code",
   "execution_count": 167,
   "id": "fa5e4a0a-b57e-4b9b-aca6-e8d69314fdd5",
   "metadata": {},
   "outputs": [
    {
     "name": "stdout",
     "output_type": "stream",
     "text": [
      "Accuracy:  44.73684210526316\n"
     ]
    }
   ],
   "source": [
    "def predicted_output(test):\n",
    "    test_predicted = []\n",
    "    for i in range(len(test)):\n",
    "        s1 = 0\n",
    "        s2 = 0\n",
    "        for j in range(5):\n",
    "            s1 += test[i][j] * best_weights_1[j]\n",
    "            s2 += test[i][j] * best_weights_2[j]\n",
    "        s1 += best_bias_1\n",
    "        s2 += best_bias_2\n",
    "        if s1>s2: test_predicted.append([0,1])\n",
    "        else: test_predicted.append([1,0])\n",
    "    return test_predicted\n",
    "\n",
    "predicted_res = predicted_output(test_input)\n",
    "\n",
    "one_hot_test_output = one_hot(test_output)\n",
    "one_hot_test_output = one_hot_test_output.tolist()\n",
    "\n",
    "correct_samples = 0\n",
    "\n",
    "for i in range(len(test_output)):\n",
    "    if predicted_res[i] == one_hot_test_output[i]:\n",
    "        correct_samples += 1\n",
    "    else: \n",
    "        pass\n",
    "\n",
    "accuracy = correct_samples / len(test_output)\n",
    "print(\"Accuracy: \", accuracy * 100)"
   ]
  },
  {
   "cell_type": "code",
   "execution_count": null,
   "id": "c971b66f-ad4e-46d3-9735-5c675b6758ae",
   "metadata": {},
   "outputs": [],
   "source": []
  }
 ],
 "metadata": {
  "kernelspec": {
   "display_name": "Python 3 (ipykernel)",
   "language": "python",
   "name": "python3"
  },
  "language_info": {
   "codemirror_mode": {
    "name": "ipython",
    "version": 3
   },
   "file_extension": ".py",
   "mimetype": "text/x-python",
   "name": "python",
   "nbconvert_exporter": "python",
   "pygments_lexer": "ipython3",
   "version": "3.11.9"
  }
 },
 "nbformat": 4,
 "nbformat_minor": 5
}
