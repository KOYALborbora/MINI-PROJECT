{
 "cells": [
  {
   "cell_type": "code",
   "execution_count": 1,
   "id": "065b0305",
   "metadata": {},
   "outputs": [],
   "source": [
    "import numpy as np\n",
    "import pandas as pd"
   ]
  },
  {
   "cell_type": "code",
   "execution_count": 8,
   "id": "8be95c1d",
   "metadata": {},
   "outputs": [],
   "source": [
    "# 3 neurons with 4 inputs"
   ]
  },
  {
   "cell_type": "code",
   "execution_count": 21,
   "id": "26bc2dba",
   "metadata": {},
   "outputs": [],
   "source": [
    "inputs = [1,2,3,2.5]"
   ]
  },
  {
   "cell_type": "code",
   "execution_count": 22,
   "id": "94059878",
   "metadata": {},
   "outputs": [],
   "source": [
    "weights21 = [0.2,0.8,-0.5,1.0]"
   ]
  },
  {
   "cell_type": "code",
   "execution_count": 23,
   "id": "3df81e3f",
   "metadata": {},
   "outputs": [],
   "source": [
    "weights22 = [0.5,-0.91,0.26,-0.5]"
   ]
  },
  {
   "cell_type": "code",
   "execution_count": 24,
   "id": "a6a2e55e",
   "metadata": {},
   "outputs": [],
   "source": [
    "weights23 = [-0.26,-0.27,0.17,0.07]"
   ]
  },
  {
   "cell_type": "code",
   "execution_count": 25,
   "id": "d3418bbb",
   "metadata": {},
   "outputs": [],
   "source": [
    "bias21 = 2"
   ]
  },
  {
   "cell_type": "code",
   "execution_count": 26,
   "id": "925b24ff",
   "metadata": {},
   "outputs": [],
   "source": [
    "bias22 = 3"
   ]
  },
  {
   "cell_type": "code",
   "execution_count": 15,
   "id": "ce561912",
   "metadata": {},
   "outputs": [],
   "source": [
    "bias23 = 0.5"
   ]
  },
  {
   "cell_type": "code",
   "execution_count": 27,
   "id": "c75bb29c",
   "metadata": {},
   "outputs": [],
   "source": [
    "output =[inputs[0]*weights21[0]+inputs[1]*weights21[1]+inputs[2]*weights21[2]+inputs[3]*weights21[3]+bias21 , inputs[0]*weights22[0]+inputs[1]*weights22[1]+inputs[2]*weights22[2]+inputs[3]*weights22[3]+bias22 ,inputs[0]*weights23[0]+inputs[1]*weights23[1]+inputs[2]*weights23[2]+inputs[3]*weights23[3]+ bias23]"
   ]
  },
  {
   "cell_type": "code",
   "execution_count": 28,
   "id": "29585ed0",
   "metadata": {},
   "outputs": [
    {
     "name": "stdout",
     "output_type": "stream",
     "text": [
      "[4.8, 1.21, 0.385]\n"
     ]
    }
   ],
   "source": [
    "print(output)"
   ]
  },
  {
   "cell_type": "code",
   "execution_count": 29,
   "id": "363b43ce",
   "metadata": {},
   "outputs": [],
   "source": [
    "#standard way"
   ]
  },
  {
   "cell_type": "code",
   "execution_count": 30,
   "id": "d4612ce3",
   "metadata": {},
   "outputs": [],
   "source": [
    "weights = [ [0.2,0.8,-0.5,1.0], [0.5,-0.91,0.26,-0.5],[-0.26,-0.27,0.17,0.07]]"
   ]
  },
  {
   "cell_type": "code",
   "execution_count": 31,
   "id": "59d63f18",
   "metadata": {},
   "outputs": [],
   "source": [
    "biases = [2,3,0.5]"
   ]
  },
  {
   "cell_type": "code",
   "execution_count": 32,
   "id": "58b23e85",
   "metadata": {},
   "outputs": [
    {
     "ename": "NameError",
     "evalue": "name 'n_input' is not defined",
     "output_type": "error",
     "traceback": [
      "\u001b[1;31m---------------------------------------------------------------------------\u001b[0m",
      "\u001b[1;31mNameError\u001b[0m                                 Traceback (most recent call last)",
      "Cell \u001b[1;32mIn[32], line 5\u001b[0m\n\u001b[0;32m      3\u001b[0m neuron_output \u001b[38;5;241m=\u001b[39m \u001b[38;5;241m0\u001b[39m\n\u001b[0;32m      4\u001b[0m \u001b[38;5;28;01mfor\u001b[39;00m n_inputs, weights \u001b[38;5;129;01min\u001b[39;00m \u001b[38;5;28mzip\u001b[39m(inputs, neuron_weights):\n\u001b[1;32m----> 5\u001b[0m     neuron_output \u001b[38;5;241m+\u001b[39m\u001b[38;5;241m=\u001b[39m \u001b[43mn_input\u001b[49m\u001b[38;5;241m*\u001b[39mweight\n\u001b[0;32m      6\u001b[0m neuron_output \u001b[38;5;241m+\u001b[39m\u001b[38;5;241m=\u001b[39m neuron_bias\n\u001b[0;32m      7\u001b[0m layer_outputs\u001b[38;5;241m.\u001b[39mappend(neuron_output)\n",
      "\u001b[1;31mNameError\u001b[0m: name 'n_input' is not defined"
     ]
    }
   ],
   "source": [
    "layer_outputs =[] #output of current layer\n",
    "for neuron_weights, neuron_bias in zip(weights,biases):\n",
    "    neuron_output = 0 3 #output of given neuron\n",
    "    for n_inputs, weights in zip(inputs, neuron_weights):\n",
    "        neuron_output += n_input*weight\n",
    "    neuron_output += neuron_bias\n",
    "    layer_outputs.append(neuron_output)\n",
    "print(layer_outputs)"
   ]
  },
  {
   "cell_type": "code",
   "execution_count": null,
   "id": "960c52a5",
   "metadata": {},
   "outputs": [],
   "source": []
  }
 ],
 "metadata": {
  "kernelspec": {
   "display_name": "Python 3 (ipykernel)",
   "language": "python",
   "name": "python3"
  },
  "language_info": {
   "codemirror_mode": {
    "name": "ipython",
    "version": 3
   },
   "file_extension": ".py",
   "mimetype": "text/x-python",
   "name": "python",
   "nbconvert_exporter": "python",
   "pygments_lexer": "ipython3",
   "version": "3.11.5"
  }
 },
 "nbformat": 4,
 "nbformat_minor": 5
}
