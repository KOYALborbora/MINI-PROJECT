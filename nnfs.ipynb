{
 "cells": [
  {
   "cell_type": "code",
   "execution_count": 1,
   "id": "fd848ef4",
   "metadata": {},
   "outputs": [],
   "source": [
    "import numpy as np\n",
    "import random as rd\n",
    "import matplotlib.pyplot as plt"
   ]
  },
  {
   "cell_type": "code",
   "execution_count": 2,
   "id": "e06093b8",
   "metadata": {},
   "outputs": [],
   "source": [
    "#[IQ,CGPA,DSA problems solved]\n",
    "inputs = [[91, 9.2, 62],[82, 8.6, 30],[95, 7.5, 100],[50, 7.0, 120]]"
   ]
  },
  {
   "cell_type": "code",
   "execution_count": 3,
   "id": "df1210c9",
   "metadata": {},
   "outputs": [],
   "source": [
    "#[SALARY in LPA]\n",
    "output = [12, 6, 13, 15,]"
   ]
  },
  {
   "cell_type": "code",
   "execution_count": 4,
   "id": "43ee4c49",
   "metadata": {},
   "outputs": [
    {
     "data": {
      "text/plain": [
       "[0.5315689872553279, 0.30238653947540495, 0.09082221528945711]"
      ]
     },
     "execution_count": 4,
     "metadata": {},
     "output_type": "execute_result"
    }
   ],
   "source": [
    "#random weigts between 0-1\n",
    "weights = [rd.random(),rd.random(),rd.random()]\n",
    "weights"
   ]
  },
  {
   "cell_type": "code",
   "execution_count": 5,
   "id": "dc992255",
   "metadata": {},
   "outputs": [],
   "source": [
    "bias = 2 #random"
   ]
  },
  {
   "cell_type": "markdown",
   "id": "c56f0c91",
   "metadata": {},
   "source": [
    "### Batched NN forward propagation"
   ]
  },
  {
   "cell_type": "code",
   "execution_count": 6,
   "id": "6a31255f",
   "metadata": {},
   "outputs": [],
   "source": [
    "predicted = [inputs[0][0]*weights[0]+inputs[0][1]*weights[1]+inputs[0][2]*weights[2] + bias,\n",
    "            inputs[1][0]*weights[0]+inputs[1][1]*weights[1]+inputs[1][2]*weights[2] + bias,\n",
    "            inputs[2][0]*weights[0]+inputs[2][1]*weights[1]+inputs[2][2]*weights[2] + bias,\n",
    "            inputs[3][0]*weights[0]+inputs[3][1]*weights[1]+inputs[3][2]*weights[2] + bias]"
   ]
  },
  {
   "cell_type": "code",
   "execution_count": 7,
   "id": "def04e9c",
   "metadata": {},
   "outputs": [
    {
     "data": {
      "text/plain": [
       "[58.7857113513549, 50.91384765310909, 63.84917436426739, 41.59382097382908]"
      ]
     },
     "execution_count": 7,
     "metadata": {},
     "output_type": "execute_result"
    }
   ],
   "source": [
    "predicted"
   ]
  },
  {
   "cell_type": "code",
   "execution_count": 8,
   "id": "654651a0",
   "metadata": {},
   "outputs": [
    {
     "data": {
      "text/plain": [
       "array([46.78571135, 44.91384765, 50.84917436, 26.59382097])"
      ]
     },
     "execution_count": 8,
     "metadata": {},
     "output_type": "execute_result"
    }
   ],
   "source": [
    "loss = np.array(predicted) - np.array(output)\n",
    "loss"
   ]
  },
  {
   "cell_type": "code",
   "execution_count": 9,
   "id": "af2161d5",
   "metadata": {},
   "outputs": [
    {
     "data": {
      "text/plain": [
       "42.285638585640115"
      ]
     },
     "execution_count": 9,
     "metadata": {},
     "output_type": "execute_result"
    }
   ],
   "source": [
    "average_loss = np.mean(loss)\n",
    "average_loss"
   ]
  },
  {
   "cell_type": "markdown",
   "id": "6eeccfc9",
   "metadata": {},
   "source": [
    "### Single input forward propagation"
   ]
  },
  {
   "cell_type": "code",
   "execution_count": 10,
   "id": "ce1e28e0",
   "metadata": {},
   "outputs": [
    {
     "data": {
      "text/plain": [
       "[<matplotlib.lines.Line2D at 0x1ccce851340>]"
      ]
     },
     "execution_count": 10,
     "metadata": {},
     "output_type": "execute_result"
    },
    {
     "data": {
      "image/png": "[encoded data removed]",
      "text/plain": [
       "<Figure size 640x480 with 1 Axes>"
      ]
     },
     "metadata": {},
     "output_type": "display_data"
    }
   ],
   "source": [
    "weights = [rd.random(), rd.random(), rd.random()]\n",
    "bias = 2\n",
    "best_weights = list(weights)\n",
    "best_bias = bias\n",
    "predicted = []\n",
    "lowest_loss = 9999999\n",
    "learning_rate = 0.05\n",
    "sign = -1\n",
    "threshold_loss = 100\n",
    "\n",
    "all_losses = []\n",
    "\n",
    "# multiplied by 0.05 to make the weights small\n",
    "for i in range(20000):\n",
    "    weights[0] -= learning_rate * rd.random()\n",
    "    weights[1] -= learning_rate * rd.random()\n",
    "    weights[2] -= learning_rate * rd.random()\n",
    "    bias -= learning_rate * rd.random()\n",
    "\n",
    "    #clipping the weights if they go below zero\n",
    "    weights[0] = max(0, weights[0])\n",
    "    weights[1] = max(0, weights[1])\n",
    "    weights[2] = max(0, weights[2])\n",
    "    \n",
    "    for j in inputs:\n",
    "        predicted.append(max(0, j[0]*weights[0]+j[1]*weights[1]+j[2]*weights[2] + bias))\n",
    "        \n",
    "    loss = np.square(np.subtract(np.array(predicted), np.array(output))).mean()\n",
    "    all_losses.append(loss)\n",
    "    \n",
    "    predicted = []\n",
    "\n",
    "    if loss > threshold_loss:\n",
    "        sign = -sign\n",
    "    \n",
    "    if loss<lowest_loss:\n",
    "        lowest_loss= loss\n",
    "        best_weights = list(weights)\n",
    "        best_bias = bias\n",
    "    else:\n",
    "        weights = list(best_weights)\n",
    "        bias = best_bias\n",
    "\n",
    "plt.plot(range(20000), all_losses)\n",
    "        "
   ]
  },
  {
   "cell_type": "code",
   "execution_count": 11,
   "id": "095d2bdf-4e90-44ac-b289-b1e5222d8a54",
   "metadata": {},
   "outputs": [],
   "source": [
    "test_input = [[91, 9.2, 62],[82, 8.6, 30],[95, 7.5, 100],[50, 7.0, 120]]"
   ]
  },
  {
   "cell_type": "code",
   "execution_count": 12,
   "id": "1ffa2c06-c7a3-4b06-aa01-ed5803fd3846",
   "metadata": {},
   "outputs": [],
   "source": [
    "test_predicted = [inputs[0][0]*weights[0]+inputs[0][1]*weights[1]+inputs[0][2]*weights[2] + bias,\n",
    "            inputs[1][0]*weights[0]+inputs[1][1]*weights[1]+inputs[1][2]*weights[2] + bias,\n",
    "            inputs[2][0]*weights[0]+inputs[2][1]*weights[1]+inputs[2][2]*weights[2] + bias,\n",
    "            inputs[3][0]*weights[0]+inputs[3][1]*weights[1]+inputs[3][2]*weights[2] + bias]"
   ]
  },
  {
   "cell_type": "code",
   "execution_count": 13,
   "id": "18a2c8bf-db6b-46ad-9578-75c9a37882cd",
   "metadata": {},
   "outputs": [
    {
     "data": {
      "text/plain": [
       "[11.337360638431589, 10.539643280092706, 10.567329936839085, 8.008283504987615]"
      ]
     },
     "execution_count": 13,
     "metadata": {},
     "output_type": "execute_result"
    }
   ],
   "source": [
    "test_predicted"
   ]
  },
  {
   "cell_type": "code",
   "execution_count": 14,
   "id": "09ea22a9-e3f9-4b18-86a0-b47c2f587a7f",
   "metadata": {},
   "outputs": [],
   "source": [
    "mse = np.square(np.subtract(np.array(test_predicted), np.array(output))).mean()"
   ]
  },
  {
   "cell_type": "code",
   "execution_count": 15,
   "id": "6af823a7-2a00-42c3-bd27-27b2315b05a1",
   "metadata": {},
   "outputs": [
    {
     "data": {
      "text/plain": [
       "18.962358804204563"
      ]
     },
     "execution_count": 15,
     "metadata": {},
     "output_type": "execute_result"
    }
   ],
   "source": [
    "mse"
   ]
  },
  {
   "cell_type": "code",
   "execution_count": 16,
   "id": "149e1ecf-9f30-49cb-8d3f-a6e6a741259c",
   "metadata": {},
   "outputs": [
    {
     "data": {
      "text/plain": [
       "4.354579061655048"
      ]
     },
     "execution_count": 16,
     "metadata": {},
     "output_type": "execute_result"
    }
   ],
   "source": [
    "rmse = np.sqrt(mse)\n",
    "rmse"
   ]
  }
 ],
 "metadata": {
  "kernelspec": {
   "display_name": "Python 3 (ipykernel)",
   "language": "python",
   "name": "python3"
  },
  "language_info": {
   "codemirror_mode": {
    "name": "ipython",
    "version": 3
   },
   "file_extension": ".py",
   "mimetype": "text/x-python",
   "name": "python",
   "nbconvert_exporter": "python",
   "pygments_lexer": "ipython3",
   "version": "3.12.2"
  }
 },
 "nbformat": 4,
 "nbformat_minor": 5
}
